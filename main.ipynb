{
 "cells": [
  {
   "cell_type": "code",
   "execution_count": 2,
   "id": "ef10fc24",
   "metadata": {},
   "outputs": [
    {
     "name": "stderr",
     "output_type": "stream",
     "text": [
      "c:\\Users\\iremm\\.conda\\envs\\BTK-AI\\Lib\\site-packages\\huggingface_hub\\file_download.py:144: UserWarning: `huggingface_hub` cache-system uses symlinks by default to efficiently store duplicated files but your machine does not support them in C:\\Users\\iremm\\.cache\\huggingface\\hub\\datasets--sajjadhadi--disease-diagnosis-dataset. Caching files will still work but in a degraded version that might require more space on your disk. This warning can be disabled by setting the `HF_HUB_DISABLE_SYMLINKS_WARNING` environment variable. For more details, see https://huggingface.co/docs/huggingface_hub/how-to-cache#limitations.\n",
      "To support symlinks on Windows, you either need to activate Developer Mode or to run Python as an administrator. In order to activate developer mode, see this article: https://docs.microsoft.com/en-us/windows/apps/get-started/enable-your-device-for-development\n",
      "  warnings.warn(message)\n",
      "Generating train split: 100%|██████████| 469195/469195 [00:01<00:00, 462793.49 examples/s]\n",
      "Generating test split: 100%|██████████| 24695/24695 [00:00<00:00, 1643239.85 examples/s]\n"
     ]
    },
    {
     "name": "stdout",
     "output_type": "stream",
     "text": [
      "DatasetDict({\n",
      "    train: Dataset({\n",
      "        features: ['diagnosis', 'text'],\n",
      "        num_rows: 469195\n",
      "    })\n",
      "    test: Dataset({\n",
      "        features: ['diagnosis', 'text'],\n",
      "        num_rows: 24695\n",
      "    })\n",
      "})\n",
      "{'diagnosis': 'personality disorder', 'text': 'Patient reported these symptoms: depression ,hostile behavior ,drug abuse ,delusions or hallucinations ,temper problems ,fears and phobias and low self-esteem  may indicate. based on these symptoms, what disease may the patient have? The patient may have personality disorder.'}\n"
     ]
    }
   ],
   "source": [
    "from datasets import load_dataset\n",
    "\n",
    "# Verisetini indirme\n",
    "dataset = load_dataset(\"sajjadhadi/disease-diagnosis-dataset\")\n",
    "\n",
    "# Verinin örneklerine göz atma\n",
    "print(dataset)\n",
    "\n",
    "# Eğitim setinin ilk örneğine bakma\n",
    "print(dataset['train'][0])\n"
   ]
  },
  {
   "cell_type": "code",
   "execution_count": 4,
   "id": "8f9acb06",
   "metadata": {},
   "outputs": [
    {
     "name": "stderr",
     "output_type": "stream",
     "text": [
      "Map: 100%|██████████| 469195/469195 [00:17<00:00, 26391.94 examples/s]\n",
      "Map: 100%|██████████| 24695/24695 [00:01<00:00, 21249.69 examples/s]"
     ]
    },
    {
     "name": "stdout",
     "output_type": "stream",
     "text": [
      "{'diagnosis': 'personality disorder', 'text': 'depression ,hostile behavior ,drug abuse ,delusions or hallucinations ,temper problems ,fears and phobias and low self-esteem  may indicate.'}\n"
     ]
    },
    {
     "name": "stderr",
     "output_type": "stream",
     "text": [
      "\n"
     ]
    }
   ],
   "source": [
    "import re\n",
    "# Metin temizleme fonksiyonu\n",
    "def clean_text(text):\n",
    "    # Gereksiz başlangıç kısmını ve son kısmını temizle\n",
    "    text = re.sub(r\"Patient reported these symptoms: \", \"\", text)\n",
    "    text = re.sub(r\" based on these symptoms, what disease may the patient have\\? The patient may have .+\", \"\", text)\n",
    "    return text.strip()\n",
    "\n",
    "# Eğitim verisindeki 'text' bölümünü temizleme\n",
    "dataset['train'] = dataset['train'].map(lambda x: {'text': clean_text(x['text']), 'diagnosis': x['diagnosis']})\n",
    "\n",
    "# Test verisindeki 'text' bölümünü temizleme\n",
    "dataset['test'] = dataset['test'].map(lambda x: {'text': clean_text(x['text']), 'diagnosis': x['diagnosis']})\n",
    "\n",
    "# Temizlenmiş veriyi kontrol etme\n",
    "print(dataset['train'][0])"
   ]
  },
  {
   "cell_type": "code",
   "execution_count": null,
   "id": "5e05f1b6",
   "metadata": {},
   "outputs": [],
   "source": []
  }
 ],
 "metadata": {
  "kernelspec": {
   "display_name": "BTK-AI",
   "language": "python",
   "name": "python3"
  },
  "language_info": {
   "codemirror_mode": {
    "name": "ipython",
    "version": 3
   },
   "file_extension": ".py",
   "mimetype": "text/x-python",
   "name": "python",
   "nbconvert_exporter": "python",
   "pygments_lexer": "ipython3",
   "version": "3.11.9"
  }
 },
 "nbformat": 4,
 "nbformat_minor": 5
}
